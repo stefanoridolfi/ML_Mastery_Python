{
  "nbformat": 4,
  "nbformat_minor": 0,
  "metadata": {
    "colab": {
      "name": "Untitled3.ipynb",
      "provenance": [],
      "include_colab_link": true
    },
    "kernelspec": {
      "name": "python3",
      "display_name": "Python 3"
    }
  },
  "cells": [
    {
      "cell_type": "markdown",
      "metadata": {
        "id": "view-in-github",
        "colab_type": "text"
      },
      "source": [
        "<a href=\"https://colab.research.google.com/github/stefanoridolfi/ML_Mastery_Python/blob/master/ch_7.ipynb\" target=\"_parent\"><img src=\"https://colab.research.google.com/assets/colab-badge.svg\" alt=\"Open In Colab\"/></a>"
      ]
    },
    {
      "cell_type": "markdown",
      "metadata": {
        "id": "7rL_lOJhfNFr",
        "colab_type": "text"
      },
      "source": [
        "# Rescale Data"
      ]
    },
    {
      "cell_type": "code",
      "metadata": {
        "id": "2cJM0868TqTY",
        "colab_type": "code",
        "colab": {
          "base_uri": "https://localhost:8080/",
          "height": 799
        },
        "outputId": "0d342f23-fdd6-47ff-e965-f7e73ff98a8a"
      },
      "source": [
        "# Chpater 7b##########################\n",
        "##############################################\n",
        "import pandas as pd\n",
        "from pandas import set_option\n",
        "from csv import reader\n",
        "from matplotlib import pyplot\n",
        "from matplotlib.pyplot import figure\n",
        "\n",
        "names = ['preg', 'plas', 'pres', 'skin', 'test', 'mass', 'pedi', 'age', 'class']\n",
        "CSV_url='https://raw.githubusercontent.com/jbrownlee/Datasets/master/pima-indians-diabetes.data.csv'\n",
        "dataframe=pd.read_csv(CSV_url,header=None,names=names)\n",
        "print(\"type data\",type(dataframe))\n",
        "arr=dataframe.values\n",
        "X=arr[:,0:8]\n",
        "Y=arr[:,8]\n",
        "scaler = MinMaxScaler(feature_range=(0, 1))\n",
        "rescaledX = scaler.fit_transform(X)\n",
        "set_printoptions(precision=3)\n",
        "print(\"\\nrescaledX prime 5 righe e prime 2 colonne\\n\",rescaledX[0:5,0:2])\n",
        "# faccio rescale della prima colonna e la seconda colonna di X limitatte alle prima 5 righe\n",
        "X1=arr[0:5,0:1]\n",
        "X2=arr[0:5,1:2]\n",
        "print(\"\\nX1\\n\",X1)\n",
        "print(\"\\nX2\\n\",X2)\n",
        "rescaledX1 = scaler.fit_transform(X1)\n",
        "rescaledX2 = scaler.fit_transform(X2)\n",
        "print(\"\\nrescaledX1\\n\",rescaledX1)\n",
        "print(\"\\nrescaledX2\\n\",rescaledX2)\n",
        "# mean using pandas\n",
        "u=arr.mean(axis = 0) \n",
        "u1=X1.mean(axis=0)\n",
        "sta1=X1.std(axis=0)\n",
        "print(\"\\nmedia\\n\",u)\n",
        "sta=arr.std(axis = 0) \n",
        "print(\"\\nstandard deviation\\n\",sta)\n",
        "\n",
        "print(\"\\nmedia X1\",u1)\n",
        "print(\"\\nstandard deviation X1\",sta1)\n"
      ],
      "execution_count": 97,
      "outputs": [
        {
          "output_type": "stream",
          "text": [
            "type data <class 'pandas.core.frame.DataFrame'>\n",
            "\n",
            "rescaledX prime 5 righe e prime 2 colonne\n",
            " [[0.353 0.744]\n",
            " [0.059 0.427]\n",
            " [0.471 0.92 ]\n",
            " [0.059 0.447]\n",
            " [0.    0.688]]\n",
            "\n",
            "X1\n",
            " [[6.]\n",
            " [1.]\n",
            " [8.]\n",
            " [1.]\n",
            " [0.]]\n",
            "\n",
            "X2\n",
            " [[148.]\n",
            " [ 85.]\n",
            " [183.]\n",
            " [ 89.]\n",
            " [137.]]\n",
            "\n",
            "rescaledX1\n",
            " [[0.75 ]\n",
            " [0.125]\n",
            " [1.   ]\n",
            " [0.125]\n",
            " [0.   ]]\n",
            "\n",
            "rescaledX2\n",
            " [[0.643]\n",
            " [0.   ]\n",
            " [1.   ]\n",
            " [0.041]\n",
            " [0.531]]\n",
            "\n",
            "media\n",
            " [  3.845 120.895  69.105  20.536  79.799  31.993   0.472  33.241   0.349]\n",
            "\n",
            "standard deviation\n",
            " [  3.367  31.952  19.343  15.942 115.169   7.879   0.331  11.753   0.477]\n",
            "\n",
            "media X1 [3.2]\n",
            "\n",
            "standard deviation X1 [3.187]\n"
          ],
          "name": "stdout"
        }
      ]
    },
    {
      "cell_type": "markdown",
      "metadata": {
        "id": "4qQxjQEHqkVG",
        "colab_type": "text"
      },
      "source": [
        "Standardize features by removing the mean and scaling to unit variance\n",
        "\n",
        "The standard score of a sample x is calculated as:\n",
        "\n",
        "z = (x - u) / s\n",
        "\n",
        "where u is the mean of the training samples or zero if with_mean=False, and s is the standard deviation of the training samples or one if with_std=False."
      ]
    },
    {
      "cell_type": "markdown",
      "metadata": {
        "id": "7lxLhhA_K3c0",
        "colab_type": "text"
      },
      "source": [
        "# Rescale Data description\n",
        "\n",
        "When your data is comprised of attributes with varying scales, many machine learning algorithms can benefit from rescaling the attributes to all have the same scale. Often this is referred to as normalization and attributes are often rescaled into the range between 0 and 1. This is useful for optimization algorithms used in the core of machine learning algorithms like gradient descent. It is also useful for algorithms that weight inputs like regression and neural networks and algorithms that use distance measures like k-Nearest Neighbors. You can rescale your data using scikit-learn using the *MinMaxScaler *class.\n",
        "\n",
        "---\n",
        "\n",
        "MinMax Scaling\n",
        "\n",
        "A function for min-max scaling of pandas DataFrames or NumPy arrays.\n",
        "\n",
        "from mlxtend.preprocessing import MinMaxScaling\n",
        "\n",
        "An alternative approach to Z-score normalization (or standardization) is the so-called Min-Max scaling (often also simply called \"normalization\" - a common cause for ambiguities). In this approach, the data is scaled to a fixed range - usually 0 to 1. The cost of having this bounded range - in contrast to standardization - is that we will end up with smaller standard deviations, which can suppress the effect of outliers.\n",
        "\n",
        "A Min-Max scaling is typically done via the following equation:\n",
        "\n",
        "Xsc=(X−Xmin)/(Xmax−Xmin)\n",
        "\n"
      ]
    },
    {
      "cell_type": "code",
      "metadata": {
        "id": "pQtLPciANeOf",
        "colab_type": "code",
        "colab": {}
      },
      "source": [
        "# Rscale numpy array\n",
        "set_printoptions(precision=3)\n",
        "import numpy as np\n",
        "X = np.array([[1, 10], [2, 9], [3, 8], \n",
        "              [4, 7], [5, 6], [6, 5]])\n",
        "print(\"type(X):\",type(X),\"dim X:\",X.shape)\n",
        "print(\"X\",X)\n",
        "\n",
        "# Rescale pandas dataframe\n",
        "#s1 e s2 sono rispettivamente la prima colonna e la seconda colonna di X limitatte alle prima 5 righe: ovvero s1=X1 s2=X2\n",
        "import pandas as pd\n",
        "from sklearn.preprocessing import MinMaxScaler\n",
        "from mlxtend.preprocessing import minmax_scaling\n",
        "from numpy import set_printoptions\n",
        "d = {'s1': [6,1,8,1,0], 's2':  [148,85,183,89,137]}\n",
        "df = pd.DataFrame(data=d)\n",
        "print(\"\\ndataframe\\n\",df)\n",
        "minmax_scaling(df, columns=['s1', 's2'])\n",
        "\n",
        "# Rescale list per dimostrare la formula di rescale: rescale di lista l1 e di lista l2. l1 ed l2 sono s1 ed s2\n",
        "l1=[6,1,8,1,0]\n",
        "l2= [148,85,183,89,137]\n",
        "ml1=min(l1)\n",
        "Ml1=max(l1)\n",
        "print(\"Ml1\",Ml1)\n",
        "print(\"ml1\",ml1)\n",
        "ml2=min(l2)\n",
        "Ml2=max(l2)\n",
        "print(\"Ml2\",Ml2)\n",
        "print(\"ml2\",ml2)\n",
        "Mml1=Ml1-ml1\n",
        "Mml2=Ml2-ml2\n",
        "l1r=[]\n",
        "l2r=[]\n",
        "for elem in l1:\n",
        "   l1r.append((elem-ml1)/Mml1)\n",
        "print(\"l1 resc:\",l1r)\n",
        "for elem in l2:\n",
        "   l2r.append((elem-ml2)/Mml2)\n",
        "print(\"l2 resc:\",l2r)\n",
        "scaler = MinMaxScaler(feature_range=(0, 1))\n",
        "rescaleddf = scaler.fit_transform(df)\n",
        "print(\"\\nrescaleddf\\n\",rescaleddf)"
      ],
      "execution_count": 0,
      "outputs": []
    },
    {
      "cell_type": "markdown",
      "metadata": {
        "id": "E2VlX9VDd45y",
        "colab_type": "text"
      },
      "source": [
        "# Dimostrazione che la funzione di rescale è esattamente quella implementata nella libreria\n",
        "\n",
        "l1r è eguale a rescaledX1, l2 è eguale a rescaledX2 ed l1r+l2r sono eguali a rescaleddf. "
      ]
    }
  ]
}