{
  "nbformat": 4,
  "nbformat_minor": 0,
  "metadata": {
    "colab": {
      "name": "Untitled3.ipynb",
      "provenance": [],
      "authorship_tag": "ABX9TyOL9Cg9aixbkAfVt6/401gr",
      "include_colab_link": true
    },
    "kernelspec": {
      "name": "python3",
      "display_name": "Python 3"
    }
  },
  "cells": [
    {
      "cell_type": "markdown",
      "metadata": {
        "id": "view-in-github",
        "colab_type": "text"
      },
      "source": [
        "<a href=\"https://colab.research.google.com/github/stefanoridolfi/ML_Mastery_Python/blob/master/ch_5.ipynb\" target=\"_parent\"><img src=\"https://colab.research.google.com/assets/colab-badge.svg\" alt=\"Open In Colab\"/></a>"
      ]
    },
    {
      "cell_type": "code",
      "metadata": {
        "id": "2cJM0868TqTY",
        "colab_type": "code",
        "colab": {}
      },
      "source": [
        "# FROM ch_5.3.pynb##########################\n",
        "##############################################\n",
        "import pandas as pd\n",
        "from pandas import set_option\n",
        "from csv import reader\n",
        "\n",
        "names = ['preg', 'plas', 'pres', 'skin', 'test', 'mass', 'pedi', 'age', 'class']\n",
        "CSV_url='https://raw.githubusercontent.com/jbrownlee/Datasets/master/pima-indians-diabetes.data.csv'\n",
        "data=pd.read_csv(CSV_url,header=None,names=names)\n",
        "peek = data.head(20)\n",
        "print(\"prime 20 istanze\\n\",peek)\n",
        "types = data.dtypes\n",
        "print(types)\n",
        "shape=data.shape\n",
        "print(\"dimensions\",shape)\n",
        "set_option('display.width', 200)\n",
        "set_option('precision', 3)\n",
        "description = data.describe()\n",
        "print(\"description\\n\",description)\n",
        "ages_counts = data.groupby('age').size()\n",
        "class_counts = data.groupby('class').size()\n",
        "print(\"class counts\\n\",class_counts)\n",
        "#print(\"ages counts\\n\",ages_counts)\n",
        "correlations = data.corr(method='pearson')\n",
        "print(\"Correlazione\\n\",correlations)\n",
        "# skewness è indice di asimmetria\n",
        "skew = data.skew()\n",
        "print(\"skew\\n\",skew)\n"
      ],
      "execution_count": 0,
      "outputs": []
    }
  ]
}