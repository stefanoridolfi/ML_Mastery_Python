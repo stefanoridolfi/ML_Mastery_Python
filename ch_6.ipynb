{
  "nbformat": 4,
  "nbformat_minor": 0,
  "metadata": {
    "colab": {
      "name": "Untitled3.ipynb",
      "provenance": [],
      "authorship_tag": "ABX9TyP5WS/+9D4WGjGDJv1lAf+G",
      "include_colab_link": true
    },
    "kernelspec": {
      "name": "python3",
      "display_name": "Python 3"
    }
  },
  "cells": [
    {
      "cell_type": "markdown",
      "metadata": {
        "id": "view-in-github",
        "colab_type": "text"
      },
      "source": [
        "<a href=\"https://colab.research.google.com/github/stefanoridolfi/ML_Mastery_Python/blob/master/ch_6.ipynb\" target=\"_parent\"><img src=\"https://colab.research.google.com/assets/colab-badge.svg\" alt=\"Open In Colab\"/></a>"
      ]
    },
    {
      "cell_type": "code",
      "metadata": {
        "id": "2cJM0868TqTY",
        "colab_type": "code",
        "colab": {}
      },
      "source": [
        "# FROM ch_5.3.pynb##########################\n",
        "##############################################\n",
        "import pandas as pd\n",
        "from pandas import set_option\n",
        "from csv import reader\n",
        "from matplotlib import pyplot\n",
        "from matplotlib.pyplot import figure\n",
        "\n",
        "names = ['preg', 'plas', 'pres', 'skin', 'test', 'mass', 'pedi', 'age', 'class']\n",
        "CSV_url='https://raw.githubusercontent.com/jbrownlee/Datasets/master/pima-indians-diabetes.data.csv'\n",
        "data=pd.read_csv(CSV_url,header=None,names=names)\n",
        "print(data.shape)\n",
        "print(\"data\\n\",data[0:3])\n",
        "print(\"prime tre righe collona skin\\n\",data.loc[0:2,'skin'])\n",
        "print(\"prime tre righe collona delle prime 3 colonne\\n\",data.iloc[0:2,0:3])\n",
        "data_age=data.loc[:,'age']\n",
        "data_age.hist()\n",
        "#pyplot.show()\n",
        "#data.hist()\n",
        "pyplot.show()\n",
        "\n",
        "data_age.plot(kind='density', sharex=False)\n",
        "pyplot.show()\n",
        "# print all densities\n",
        "data.plot(kind='density', subplots=True, layout=(3,3), sharex=False)\n",
        "pyplot.show()"
      ],
      "execution_count": 0,
      "outputs": []
    },
    {
      "cell_type": "code",
      "metadata": {
        "id": "unhYFU7bdgSY",
        "colab_type": "code",
        "colab": {}
      },
      "source": [
        "\n",
        "# Box and Whisker Plots\n",
        "\n",
        "from matplotlib import pyplot\n",
        "from pandas import read_csv\n",
        "CSV_url='https://raw.githubusercontent.com/jbrownlee/Datasets/master/pima-indians-diabetes.data.csv'\n",
        "names = ['preg', 'plas', 'pres', 'skin', 'test', 'mass', 'pedi', 'age', 'class']\n",
        "data_age=data.loc[:,'age']\n",
        "data_age.plot(kind='box', sharex=False)\n",
        "pyplot.show()\n",
        "data=pd.read_csv(CSV_url,header=None,names=names)\n",
        "data.plot(kind='box', subplots=True, layout=(3,3), sharex=False, sharey=False)\n",
        "pyplot.show()"
      ],
      "execution_count": 0,
      "outputs": []
    },
    {
      "cell_type": "code",
      "metadata": {
        "id": "aW9Yywo1eeT-",
        "colab_type": "code",
        "colab": {
          "base_uri": "https://localhost:8080/",
          "height": 628
        },
        "outputId": "299323fa-0922-4a98-e7e8-6d4331fd6c27"
      },
      "source": [
        "#Correlation Matrix Plot\n",
        "#from matplotlib import pyplot\n",
        "import matplotlib.pyplot as plt\n",
        "\n",
        "import pandas as pd\n",
        "from pandas import set_option\n",
        "from csv import reader\n",
        "import numpy \n",
        "CSV_url='https://raw.githubusercontent.com/jbrownlee/Datasets/master/pima-indians-diabetes.data.csv'\n",
        "names = ['preg', 'plas', 'pres', 'skin', 'test', 'mass', 'pedi', 'age', 'class']\n",
        "data=pd.read_csv(CSV_url,header=None,names=names)\n",
        "# calcolo la correlazione fra le colonne\n",
        "correlations = data.corr()\n",
        "print(correlations)\n",
        "print(\"type correlations\", type(correlations))\n",
        "print(correlations[0:4])\n",
        "print(\"describe\",correlations.shape)\n",
        "fig=pyplot.figure()\n",
        "ax=fig.add_subplot(111)\n",
        "ax.matshow(correlations, vmin=-1, vmax=1)\n",
        "fig.colorbar(cax)\n",
        "ticks = numpy.arange(0,9,1)\n",
        "ax.set_xticks(ticks)\n",
        "ax.set_yticks(ticks)\n",
        "ax.set_xticklabels(names)\n",
        "ax.set_yticklabels(names)\n",
        "pyplot.show()"
      ],
      "execution_count": 66,
      "outputs": [
        {
          "output_type": "stream",
          "text": [
            "           preg      plas      pres  ...      pedi       age     class\n",
            "preg   1.000000  0.129459  0.141282  ... -0.033523  0.544341  0.221898\n",
            "plas   0.129459  1.000000  0.152590  ...  0.137337  0.263514  0.466581\n",
            "pres   0.141282  0.152590  1.000000  ...  0.041265  0.239528  0.065068\n",
            "skin  -0.081672  0.057328  0.207371  ...  0.183928 -0.113970  0.074752\n",
            "test  -0.073535  0.331357  0.088933  ...  0.185071 -0.042163  0.130548\n",
            "mass   0.017683  0.221071  0.281805  ...  0.140647  0.036242  0.292695\n",
            "pedi  -0.033523  0.137337  0.041265  ...  1.000000  0.033561  0.173844\n",
            "age    0.544341  0.263514  0.239528  ...  0.033561  1.000000  0.238356\n",
            "class  0.221898  0.466581  0.065068  ...  0.173844  0.238356  1.000000\n",
            "\n",
            "[9 rows x 9 columns]\n",
            "type correlations <class 'pandas.core.frame.DataFrame'>\n",
            "          preg      plas      pres  ...      pedi       age     class\n",
            "preg  1.000000  0.129459  0.141282  ... -0.033523  0.544341  0.221898\n",
            "plas  0.129459  1.000000  0.152590  ...  0.137337  0.263514  0.466581\n",
            "pres  0.141282  0.152590  1.000000  ...  0.041265  0.239528  0.065068\n",
            "skin -0.081672  0.057328  0.207371  ...  0.183928 -0.113970  0.074752\n",
            "\n",
            "[4 rows x 9 columns]\n",
            "describe (9, 9)\n"
          ],
          "name": "stdout"
        },
        {
          "output_type": "display_data",
          "data": {
            "image/png": "[encoded data removed]",
            "text/plain": [
              "<Figure size 432x288 with 2 Axes>"
            ]
          },
          "metadata": {
            "tags": [],
            "needs_background": "light"
          }
        }
      ]
    }
  ]
}