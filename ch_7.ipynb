{
  "nbformat": 4,
  "nbformat_minor": 0,
  "metadata": {
    "colab": {
      "name": "Untitled3.ipynb",
      "provenance": [],
      "authorship_tag": "ABX9TyMIaejqDKOpDnJYsh57JTC0",
      "include_colab_link": true
    },
    "kernelspec": {
      "name": "python3",
      "display_name": "Python 3"
    }
  },
  "cells": [
    {
      "cell_type": "markdown",
      "metadata": {
        "id": "view-in-github",
        "colab_type": "text"
      },
      "source": [
        "<a href=\"https://colab.research.google.com/github/stefanoridolfi/ML_Mastery_Python/blob/master/ch_7.ipynb\" target=\"_parent\"><img src=\"https://colab.research.google.com/assets/colab-badge.svg\" alt=\"Open In Colab\"/></a>"
      ]
    },
    {
      "cell_type": "code",
      "metadata": {
        "id": "2cJM0868TqTY",
        "colab_type": "code",
        "colab": {}
      },
      "source": [
        "# FROM ch_5.3.pynb##########################\n",
        "##############################################\n",
        "import pandas as pd\n",
        "from pandas import set_option\n",
        "from csv import reader\n",
        "from matplotlib import pyplot\n",
        "from matplotlib.pyplot import figure\n",
        "\n",
        "names = ['preg', 'plas', 'pres', 'skin', 'test', 'mass', 'pedi', 'age', 'class']\n",
        "CSV_url='https://raw.githubusercontent.com/jbrownlee/Datasets/master/pima-indians-diabetes.data.csv'\n",
        "data=pd.read_csv(CSV_url,header=None,names=names)\n"
      ],
      "execution_count": 0,
      "outputs": []
    }
  ]
}